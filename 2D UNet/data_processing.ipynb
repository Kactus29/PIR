{
 "cells": [
  {
   "cell_type": "markdown",
   "id": "40761e66",
   "metadata": {},
   "source": [
    "# <span style=\"color:blue\"> Data Processing and Segmentation with U-Net Model\n",
    "\n",
    "This notebook is designed to process and segment data from the `data` folder located in the root directory. \n",
    "\n",
    "We will use a U-Net model for segmentation tasks, which is a popular architecture for image segmentation due to its ability to capture both local and global features effectively.\n",
    "\n",
    "The notebook will guide you through the following steps:\n",
    "\n",
    "1. **Imports and Setup**: Importing necessary libraries and setting up the environment.\n",
    "2. **Data Loading and Visualization**: Loading the dataset and visualizing samples to understand the data.\n",
    "3. **Defining the U-Net Architecture**: Implementing the U-Net model for segmentation.\n",
    "4. **Training the Model**: Training the U-Net model on the dataset.\n",
    "5. **Inference and Evaluation**: Testing the model on unseen data and evaluating its performance.\n",
    "\n",
    "---\n",
    "\n",
    "### <span style=\"color:brown\"> What is Segmentation?\n",
    "\n",
    "Segmentation is the process of assigning a class label to each pixel in an image. It can be:\n",
    "- **Binary Segmentation**: Differentiating between an object and the background.\n",
    "- **Multi-Class Segmentation**: Differentiating between multiple object classes.\n",
    "\n",
    "In this notebook, we will focus on **semantic segmentation**, where all objects of the same class are assigned the same label.\n",
    "\n",
    "---\n",
    "\n",
    "### <span style=\"color:brown\"> Overview of U-Net\n",
    "\n",
    "The U-Net architecture is a fully convolutional network designed for segmentation tasks. It consists of:\n",
    "- **Encoder Path**: Captures context and extracts features.\n",
    "- **Decoder Path**: Reconstructs the segmentation map using the features extracted by the encoder.\n",
    "- **Skip Connections**: Preserve spatial information by connecting corresponding layers in the encoder and decoder.\n",
    "\n",
    "<img src=\"figures/UNet.png\" alt=\"U-Net Architecture\" style=\"width: 70%;\"/>"
   ]
  },
  {
   "cell_type": "markdown",
   "id": "90b6b98e",
   "metadata": {},
   "source": [
    "## <span style=\"color:brown\"> 1. Imports and Setup\n",
    "\n",
    "In this section, we will import the necessary libraries and set up the environment for data processing and model training."
   ]
  },
  {
   "cell_type": "code",
   "execution_count": 2,
   "id": "ba96fc1a",
   "metadata": {},
   "outputs": [
    {
     "name": "stdout",
     "output_type": "stream",
     "text": [
      "Using device: cuda\n"
     ]
    }
   ],
   "source": [
    "# Import libraries\n",
    "import os\n",
    "import torch\n",
    "import torch.nn as nn\n",
    "import torch.nn.functional as F\n",
    "from torch.utils.data import Dataset, DataLoader\n",
    "from sklearn.model_selection import train_test_split\n",
    "import numpy as np\n",
    "from pathlib import Path\n",
    "from tqdm.auto import tqdm\n",
    "from typing import Tuple, List, Dict\n",
    "#import nibabel as nib\n",
    "from torchvision import transforms\n",
    "from PIL import Image\n",
    "\n",
    "# Check device\n",
    "device = torch.device(\"cuda\" if torch.cuda.is_available() else \"cpu\")\n",
    "print(f\"Using device: {device}\")"
   ]
  },
  {
   "cell_type": "markdown",
   "id": "8e625efc",
   "metadata": {},
   "source": [
    "## <span style=\"color:brown\"> 2. Data Loading and Organization\n",
    "\n",
    "In this section, we will organize the data into train, validation, and test sets based on patient IDs and create dataset objects for processing.\n",
    "\n",
    "The `data` folder contains subfolders for each patient (e.g., `01016SACH`), and within each patient folder, there are files for different views and phases, such as:\n",
    "- `TransformParameters.0.txt`: Metadata for transformations.\n",
    "- `2CH_ED.nii.gz`: Image for the 2-chamber view at end-diastole.\n",
    "- `2CH_ED_gt.nii.gz`: Ground truth segmentation for the corresponding image.\n",
    "- Similar files for other views and phases (e.g., `2CH_ES`, `4CH_ED`, `4CH_ES`)."
   ]
  },
  {
   "cell_type": "code",
   "execution_count": 4,
   "id": "ce60fde0",
   "metadata": {},
   "outputs": [
    {
     "ename": "FileNotFoundError",
     "evalue": "[WinError 3] Le chemin d’accès spécifié est introuvable: 'C:\\\\Users\\\\User\\\\3TC\\\\PIR\\\\2D UNet\\\\data'",
     "output_type": "error",
     "traceback": [
      "\u001b[1;31m---------------------------------------------------------------------------\u001b[0m",
      "\u001b[1;31mFileNotFoundError\u001b[0m                         Traceback (most recent call last)",
      "Cell \u001b[1;32mIn[4], line 22\u001b[0m\n\u001b[0;32m     19\u001b[0m data_dir \u001b[38;5;241m=\u001b[39m Path(\u001b[38;5;124m\"\u001b[39m\u001b[38;5;124m./data\u001b[39m\u001b[38;5;124m\"\u001b[39m)\u001b[38;5;241m.\u001b[39mresolve()\n\u001b[0;32m     21\u001b[0m \u001b[38;5;66;03m# List all patient IDs\u001b[39;00m\n\u001b[1;32m---> 22\u001b[0m patient_ids \u001b[38;5;241m=\u001b[39m \u001b[43msubdirs\u001b[49m\u001b[43m(\u001b[49m\u001b[43mdata_dir\u001b[49m\u001b[43m,\u001b[49m\u001b[43m \u001b[49m\u001b[43mjoin\u001b[49m\u001b[38;5;241;43m=\u001b[39;49m\u001b[38;5;28;43;01mFalse\u001b[39;49;00m\u001b[43m)\u001b[49m\n\u001b[0;32m     24\u001b[0m \u001b[38;5;66;03m# Split patient IDs into train, validation, and test sets\u001b[39;00m\n\u001b[0;32m     25\u001b[0m train_ids, val_and_test_ids \u001b[38;5;241m=\u001b[39m train_test_split(patient_ids, train_size\u001b[38;5;241m=\u001b[39m\u001b[38;5;241m0.8\u001b[39m, random_state\u001b[38;5;241m=\u001b[39m\u001b[38;5;241m12345\u001b[39m)\n",
      "Cell \u001b[1;32mIn[4], line 9\u001b[0m, in \u001b[0;36msubdirs\u001b[1;34m(folder, join, prefix, suffix, sort)\u001b[0m\n\u001b[0;32m      5\u001b[0m \u001b[38;5;28;01melse\u001b[39;00m:\n\u001b[0;32m      6\u001b[0m     l \u001b[38;5;241m=\u001b[39m \u001b[38;5;28;01mlambda\u001b[39;00m x, y: y\n\u001b[0;32m      7\u001b[0m res \u001b[38;5;241m=\u001b[39m [\n\u001b[0;32m      8\u001b[0m     l(folder, i)\n\u001b[1;32m----> 9\u001b[0m     \u001b[38;5;28;01mfor\u001b[39;00m i \u001b[38;5;129;01min\u001b[39;00m \u001b[43mos\u001b[49m\u001b[38;5;241;43m.\u001b[39;49m\u001b[43mlistdir\u001b[49m\u001b[43m(\u001b[49m\u001b[43mfolder\u001b[49m\u001b[43m)\u001b[49m\n\u001b[0;32m     10\u001b[0m     \u001b[38;5;28;01mif\u001b[39;00m os\u001b[38;5;241m.\u001b[39mpath\u001b[38;5;241m.\u001b[39misdir(os\u001b[38;5;241m.\u001b[39mpath\u001b[38;5;241m.\u001b[39mjoin(folder, i))\n\u001b[0;32m     11\u001b[0m     \u001b[38;5;129;01mand\u001b[39;00m (prefix \u001b[38;5;129;01mis\u001b[39;00m \u001b[38;5;28;01mNone\u001b[39;00m \u001b[38;5;129;01mor\u001b[39;00m i\u001b[38;5;241m.\u001b[39mstartswith(prefix))\n\u001b[0;32m     12\u001b[0m     \u001b[38;5;129;01mand\u001b[39;00m (suffix \u001b[38;5;129;01mis\u001b[39;00m \u001b[38;5;28;01mNone\u001b[39;00m \u001b[38;5;129;01mor\u001b[39;00m i\u001b[38;5;241m.\u001b[39mendswith(suffix))\n\u001b[0;32m     13\u001b[0m ]\n\u001b[0;32m     14\u001b[0m \u001b[38;5;28;01mif\u001b[39;00m sort:\n\u001b[0;32m     15\u001b[0m     res\u001b[38;5;241m.\u001b[39msort()\n",
      "\u001b[1;31mFileNotFoundError\u001b[0m: [WinError 3] Le chemin d’accès spécifié est introuvable: 'C:\\\\Users\\\\User\\\\3TC\\\\PIR\\\\2D UNet\\\\data'"
     ]
    }
   ],
   "source": [
    "# Define helper function to list subdirectories\n",
    "def subdirs(folder: str, join: bool = True, prefix: str = None, suffix: str = None, sort: bool = True) -> List[str]:\n",
    "    if join:\n",
    "        l = os.path.join\n",
    "    else:\n",
    "        l = lambda x, y: y\n",
    "    res = [\n",
    "        l(folder, i)\n",
    "        for i in os.listdir(folder)\n",
    "        if os.path.isdir(os.path.join(folder, i))\n",
    "        and (prefix is None or i.startswith(prefix))\n",
    "        and (suffix is None or i.endswith(suffix))\n",
    "    ]\n",
    "    if sort:\n",
    "        res.sort()\n",
    "    return res\n",
    "\n",
    "# Specify the data directory\n",
    "data_dir = Path(\"./data\").resolve()\n",
    "\n",
    "# List all patient IDs\n",
    "patient_ids = subdirs(data_dir, join=False)\n",
    "\n",
    "# Split patient IDs into train, validation, and test sets\n",
    "train_ids, val_and_test_ids = train_test_split(patient_ids, train_size=0.8, random_state=12345)\n",
    "val_ids, test_ids = train_test_split(val_and_test_ids, test_size=0.5, random_state=12345)\n",
    "\n",
    "# Print dataset sizes\n",
    "print(f\"Train IDs: {len(train_ids)}\")\n",
    "print(f\"Validation IDs: {len(val_ids)}\")\n",
    "print(f\"Test IDs: {len(test_ids)}\")"
   ]
  },
  {
   "cell_type": "markdown",
   "id": "0a582f53",
   "metadata": {},
   "source": [
    "### <span style=\"color:brown\"> 2.1 Create Dataset Objects\n",
    "\n",
    "We will now create dataset objects for the train, validation, and test sets. Each dataset will include paths to the images and their corresponding ground truth masks."
   ]
  },
  {
   "cell_type": "code",
   "execution_count": 11,
   "id": "e8e7b3be",
   "metadata": {},
   "outputs": [
    {
     "ename": "IndexError",
     "evalue": "list index out of range",
     "output_type": "error",
     "traceback": [
      "\u001b[1;31m---------------------------------------------------------------------------\u001b[0m",
      "\u001b[1;31mIndexError\u001b[0m                                Traceback (most recent call last)",
      "Cell \u001b[1;32mIn[11], line 19\u001b[0m\n\u001b[0;32m     16\u001b[0m test_datalist \u001b[38;5;241m=\u001b[39m create_datalist(test_ids, data_dir)\n\u001b[0;32m     18\u001b[0m \u001b[38;5;66;03m# Print example datalist entries\u001b[39;00m\n\u001b[1;32m---> 19\u001b[0m \u001b[38;5;28mprint\u001b[39m(\u001b[38;5;124mf\u001b[39m\u001b[38;5;124m\"\u001b[39m\u001b[38;5;124mExample train datalist entry: \u001b[39m\u001b[38;5;132;01m{\u001b[39;00m\u001b[43mtrain_datalist\u001b[49m\u001b[43m[\u001b[49m\u001b[38;5;241;43m0\u001b[39;49m\u001b[43m]\u001b[49m\u001b[38;5;132;01m}\u001b[39;00m\u001b[38;5;124m\"\u001b[39m)\n\u001b[0;32m     20\u001b[0m \u001b[38;5;28mprint\u001b[39m(\u001b[38;5;124mf\u001b[39m\u001b[38;5;124m\"\u001b[39m\u001b[38;5;124mExample validation datalist entry: \u001b[39m\u001b[38;5;132;01m{\u001b[39;00mval_datalist[\u001b[38;5;241m0\u001b[39m]\u001b[38;5;132;01m}\u001b[39;00m\u001b[38;5;124m\"\u001b[39m)\n\u001b[0;32m     21\u001b[0m \u001b[38;5;28mprint\u001b[39m(\u001b[38;5;124mf\u001b[39m\u001b[38;5;124m\"\u001b[39m\u001b[38;5;124mExample test datalist entry: \u001b[39m\u001b[38;5;132;01m{\u001b[39;00mtest_datalist[\u001b[38;5;241m0\u001b[39m]\u001b[38;5;132;01m}\u001b[39;00m\u001b[38;5;124m\"\u001b[39m)\n",
      "\u001b[1;31mIndexError\u001b[0m: list index out of range"
     ]
    }
   ],
   "source": [
    "# Create datalists\n",
    "def create_datalist(patient_ids: List[str], data_dir: Path) -> List[Dict[str, str]]:\n",
    "    views = [\"2CH_ED\", \"2CH_ES\", \"4CH_ED\", \"4CH_ES\"]\n",
    "    datalist = []\n",
    "    for patient in patient_ids:\n",
    "        patient_dir = data_dir / patient\n",
    "        for view in views:\n",
    "            image_path = patient_dir / f\"{view}.nii.gz\"\n",
    "            label_path = patient_dir / f\"{view}_gt.nii.gz\"\n",
    "            if image_path.exists() and label_path.exists():\n",
    "                datalist.append({\"image\": str(image_path), \"label\": str(label_path)})\n",
    "    return datalist\n",
    "\n",
    "train_datalist = create_datalist(train_ids, data_dir)\n",
    "val_datalist = create_datalist(val_ids, data_dir)\n",
    "test_datalist = create_datalist(test_ids, data_dir)\n",
    "\n",
    "# Print example datalist entries\n",
    "print(f\"Example train datalist entry: {train_datalist[0]}\")\n",
    "print(f\"Example validation datalist entry: {val_datalist[0]}\")\n",
    "print(f\"Example test datalist entry: {test_datalist[0]}\")"
   ]
  },
  {
   "cell_type": "markdown",
   "id": "8bad2caf",
   "metadata": {},
   "source": [
    "### <span style=\"color:brown\"> 2.2 Define Dataset Class\n",
    "\n",
    "We will define a custom dataset class to handle loading and preprocessing of the images and masks."
   ]
  },
  {
   "cell_type": "code",
   "execution_count": 8,
   "id": "a63678ba",
   "metadata": {},
   "outputs": [
    {
     "ename": "FileNotFoundError",
     "evalue": "No such file or no access: 'C:/Users/User/3TC/PIR/data/07040DORE/07040DORE_2CH_ED.nii.gz'",
     "output_type": "error",
     "traceback": [
      "\u001b[1;31m---------------------------------------------------------------------------\u001b[0m",
      "\u001b[1;31mFileNotFoundError\u001b[0m                         Traceback (most recent call last)",
      "File \u001b[1;32mc:\\Users\\User\\AppData\\Local\\Programs\\Python\\Python313\\Lib\\site-packages\\nibabel\\loadsave.py:101\u001b[0m, in \u001b[0;36mload\u001b[1;34m(filename, **kwargs)\u001b[0m\n\u001b[0;32m    100\u001b[0m \u001b[38;5;28;01mtry\u001b[39;00m:\n\u001b[1;32m--> 101\u001b[0m     stat_result \u001b[38;5;241m=\u001b[39m \u001b[43mos\u001b[49m\u001b[38;5;241;43m.\u001b[39;49m\u001b[43mstat\u001b[49m\u001b[43m(\u001b[49m\u001b[43mfilename\u001b[49m\u001b[43m)\u001b[49m\n\u001b[0;32m    102\u001b[0m \u001b[38;5;28;01mexcept\u001b[39;00m \u001b[38;5;167;01mOSError\u001b[39;00m:\n",
      "\u001b[1;31mFileNotFoundError\u001b[0m: [WinError 2] Le fichier spécifié est introuvable: 'C:/Users/User/3TC/PIR/data/07040DORE/07040DORE_2CH_ED.nii.gz'",
      "\nDuring handling of the above exception, another exception occurred:\n",
      "\u001b[1;31mFileNotFoundError\u001b[0m                         Traceback (most recent call last)",
      "Cell \u001b[1;32mIn[8], line 13\u001b[0m\n\u001b[0;32m     10\u001b[0m     plt\u001b[38;5;241m.\u001b[39mtight_layout()\n\u001b[0;32m     11\u001b[0m     plt\u001b[38;5;241m.\u001b[39mshow()\n\u001b[1;32m---> 13\u001b[0m \u001b[43mvisualize_samples\u001b[49m\u001b[43m(\u001b[49m\u001b[43mtrain_dataset\u001b[49m\u001b[43m)\u001b[49m\n",
      "Cell \u001b[1;32mIn[8], line 5\u001b[0m, in \u001b[0;36mvisualize_samples\u001b[1;34m(dataset, num_samples)\u001b[0m\n\u001b[0;32m      3\u001b[0m fig, axes \u001b[38;5;241m=\u001b[39m plt\u001b[38;5;241m.\u001b[39msubplots(num_samples, \u001b[38;5;241m2\u001b[39m, figsize\u001b[38;5;241m=\u001b[39m(\u001b[38;5;241m10\u001b[39m, \u001b[38;5;241m5\u001b[39m \u001b[38;5;241m*\u001b[39m num_samples))\n\u001b[0;32m      4\u001b[0m \u001b[38;5;28;01mfor\u001b[39;00m i \u001b[38;5;129;01min\u001b[39;00m \u001b[38;5;28mrange\u001b[39m(num_samples):\n\u001b[1;32m----> 5\u001b[0m     image, mask \u001b[38;5;241m=\u001b[39m \u001b[43mdataset\u001b[49m\u001b[43m[\u001b[49m\u001b[43mi\u001b[49m\u001b[43m]\u001b[49m\n\u001b[0;32m      6\u001b[0m     axes[i, \u001b[38;5;241m0\u001b[39m]\u001b[38;5;241m.\u001b[39mimshow(image\u001b[38;5;241m.\u001b[39msqueeze(), cmap\u001b[38;5;241m=\u001b[39m\u001b[38;5;124m'\u001b[39m\u001b[38;5;124mgray\u001b[39m\u001b[38;5;124m'\u001b[39m)\n\u001b[0;32m      7\u001b[0m     axes[i, \u001b[38;5;241m0\u001b[39m]\u001b[38;5;241m.\u001b[39mset_title(\u001b[38;5;124m'\u001b[39m\u001b[38;5;124mImage\u001b[39m\u001b[38;5;124m'\u001b[39m)\n",
      "Cell \u001b[1;32mIn[7], line 11\u001b[0m, in \u001b[0;36mMedicalImageDataset.__getitem__\u001b[1;34m(self, idx)\u001b[0m\n\u001b[0;32m      9\u001b[0m \u001b[38;5;28;01mdef\u001b[39;00m \u001b[38;5;21m__getitem__\u001b[39m(\u001b[38;5;28mself\u001b[39m, idx):\n\u001b[0;32m     10\u001b[0m     item \u001b[38;5;241m=\u001b[39m \u001b[38;5;28mself\u001b[39m\u001b[38;5;241m.\u001b[39mdatalist[idx]\n\u001b[1;32m---> 11\u001b[0m     image \u001b[38;5;241m=\u001b[39m \u001b[43mnib\u001b[49m\u001b[38;5;241;43m.\u001b[39;49m\u001b[43mload\u001b[49m\u001b[43m(\u001b[49m\u001b[43mitem\u001b[49m\u001b[43m[\u001b[49m\u001b[38;5;124;43m'\u001b[39;49m\u001b[38;5;124;43mimage\u001b[39;49m\u001b[38;5;124;43m'\u001b[39;49m\u001b[43m]\u001b[49m\u001b[43m)\u001b[49m\u001b[38;5;241m.\u001b[39mget_fdata()\n\u001b[0;32m     12\u001b[0m     label \u001b[38;5;241m=\u001b[39m nib\u001b[38;5;241m.\u001b[39mload(item[\u001b[38;5;124m'\u001b[39m\u001b[38;5;124mlabel\u001b[39m\u001b[38;5;124m'\u001b[39m])\u001b[38;5;241m.\u001b[39mget_fdata()\n\u001b[0;32m     14\u001b[0m     \u001b[38;5;66;03m# Normalize image and convert to PIL for transformations\u001b[39;00m\n",
      "File \u001b[1;32mc:\\Users\\User\\AppData\\Local\\Programs\\Python\\Python313\\Lib\\site-packages\\nibabel\\loadsave.py:103\u001b[0m, in \u001b[0;36mload\u001b[1;34m(filename, **kwargs)\u001b[0m\n\u001b[0;32m    101\u001b[0m     stat_result \u001b[38;5;241m=\u001b[39m os\u001b[38;5;241m.\u001b[39mstat(filename)\n\u001b[0;32m    102\u001b[0m \u001b[38;5;28;01mexcept\u001b[39;00m \u001b[38;5;167;01mOSError\u001b[39;00m:\n\u001b[1;32m--> 103\u001b[0m     \u001b[38;5;28;01mraise\u001b[39;00m \u001b[38;5;167;01mFileNotFoundError\u001b[39;00m(\u001b[38;5;124mf\u001b[39m\u001b[38;5;124m\"\u001b[39m\u001b[38;5;124mNo such file or no access: \u001b[39m\u001b[38;5;124m'\u001b[39m\u001b[38;5;132;01m{\u001b[39;00mfilename\u001b[38;5;132;01m}\u001b[39;00m\u001b[38;5;124m'\u001b[39m\u001b[38;5;124m\"\u001b[39m)\n\u001b[0;32m    104\u001b[0m \u001b[38;5;28;01mif\u001b[39;00m stat_result\u001b[38;5;241m.\u001b[39mst_size \u001b[38;5;241m<\u001b[39m\u001b[38;5;241m=\u001b[39m \u001b[38;5;241m0\u001b[39m:\n\u001b[0;32m    105\u001b[0m     \u001b[38;5;28;01mraise\u001b[39;00m ImageFileError(\u001b[38;5;124mf\u001b[39m\u001b[38;5;124m\"\u001b[39m\u001b[38;5;124mEmpty file: \u001b[39m\u001b[38;5;124m'\u001b[39m\u001b[38;5;132;01m{\u001b[39;00mfilename\u001b[38;5;132;01m}\u001b[39;00m\u001b[38;5;124m'\u001b[39m\u001b[38;5;124m\"\u001b[39m)\n",
      "\u001b[1;31mFileNotFoundError\u001b[0m: No such file or no access: 'C:/Users/User/3TC/PIR/data/07040DORE/07040DORE_2CH_ED.nii.gz'"
     ]
    },
    {
     "data": {
      "image/png": "[encoded data removed]",
      "text/plain": [
       "<Figure size 1000x1500 with 6 Axes>"
      ]
     },
     "metadata": {},
     "output_type": "display_data"
    }
   ],
   "source": [
    "class MedicalImageDataset(Dataset):\n",
    "    def __init__(self, datalist: List[Dict[str, str]], transform: transforms.Compose):\n",
    "        self.datalist = datalist\n",
    "        self.transform = transform\n",
    "\n",
    "    def __len__(self):\n",
    "        return len(self.datalist)\n",
    "\n",
    "    def __getitem__(self, idx):\n",
    "        item = self.datalist[idx]\n",
    "        image = nib.load(item['image']).get_fdata()\n",
    "        label = nib.load(item['label']).get_fdata()\n",
    "\n",
    "        # Normalize image and convert to PIL for transformations\n",
    "        image = (image / np.max(image) * 255).astype(np.uint8)\n",
    "        label = label.astype(np.uint8)\n",
    "        image = Image.fromarray(image)\n",
    "        label = Image.fromarray(label)\n",
    "\n",
    "        # Apply transformations\n",
    "        image, label = self.transform((image, label))\n",
    "\n",
    "        return image, label\n",
    "\n",
    "# Define transformations\n",
    "class ResizeImageAndMask:\n",
    "    def __init__(self, image_size, mask_size):\n",
    "        self.image_resize = transforms.Resize(image_size, interpolation=Image.BILINEAR)\n",
    "        self.mask_resize = transforms.Resize(mask_size, interpolation=Image.NEAREST)\n",
    "\n",
    "    def __call__(self, sample):\n",
    "        image, mask = sample\n",
    "        image = self.image_resize(image)\n",
    "        mask = self.mask_resize(mask)\n",
    "        return transforms.ToTensor()(image), transforms.ToTensor()(mask)\n",
    "\n",
    "transform = ResizeImageAndMask((128, 128), (128, 128))\n",
    "\n",
    "# Create datasets\n",
    "train_dataset = MedicalImageDataset(train_datalist, transform)\n",
    "val_dataset = MedicalImageDataset(val_datalist, transform)\n",
    "test_dataset = MedicalImageDataset(test_datalist, transform)\n",
    "\n",
    "# Create dataloaders\n",
    "batch_size = 16\n",
    "train_loader = DataLoader(train_dataset, batch_size=batch_size, shuffle=True)\n",
    "val_loader = DataLoader(val_dataset, batch_size=batch_size, shuffle=False)\n",
    "test_loader = DataLoader(test_dataset, batch_size=batch_size, shuffle=False)\n",
    "\n",
    "print(f\"Train dataset size: {len(train_dataset)}\")\n",
    "print(f\"Validation dataset size: {len(val_dataset)}\")\n",
    "print(f\"Test dataset size: {len(test_dataset)}\")"
   ]
  },
  {
   "cell_type": "markdown",
   "id": "58e79aca",
   "metadata": {},
   "source": [
    "### <span style=\"color:brown\"> 2.2 Visualize Samples\n",
    "\n",
    "Let's visualize some samples from the dataset to ensure that the images and masks are loaded correctly."
   ]
  },
  {
   "cell_type": "code",
   "execution_count": null,
   "id": "a83b028e",
   "metadata": {},
   "outputs": [],
   "source": [
    "# Visualize samples\n",
    "def visualize_samples(dataset, num_samples=3):\n",
    "    fig, axes = plt.subplots(num_samples, 2, figsize=(10, 5 * num_samples))\n",
    "    for i in range(num_samples):\n",
    "        image, mask = dataset[i]\n",
    "        axes[i, 0].imshow(image.squeeze(), cmap='gray')\n",
    "        axes[i, 0].set_title('Image')\n",
    "        axes[i, 1].imshow(mask.squeeze(), cmap='jet')\n",
    "        axes[i, 1].set_title('Mask')\n",
    "    plt.tight_layout()\n",
    "    plt.show()\n",
    "\n",
    "visualize_samples(train_dataset)"
   ]
  },
  {
   "cell_type": "markdown",
   "id": "3c56d5bf",
   "metadata": {},
   "source": [
    "## <span style=\"color:brown\"> 3. Define the U-Net Architecture\n",
    "\n",
    "We will now define the U-Net architecture for segmentation. The U-Net consists of an encoder-decoder structure with skip connections."
   ]
  },
  {
   "cell_type": "code",
   "execution_count": null,
   "id": "5d386606",
   "metadata": {},
   "outputs": [],
   "source": [
    "class UNet(nn.Module):\n",
    "    def __init__(self, in_channels, out_channels):\n",
    "        super(UNet, self).__init__()\n",
    "        self.encoder = nn.Sequential(\n",
    "            nn.Conv2d(in_channels, 64, kernel_size=3, padding=1),\n",
    "            nn.ReLU(),\n",
    "            nn.Conv2d(64, 128, kernel_size=3, padding=1),\n",
    "            nn.ReLU()\n",
    "        )\n",
    "        self.decoder = nn.Sequential(\n",
    "            nn.ConvTranspose2d(128, 64, kernel_size=3, padding=1),\n",
    "            nn.ReLU(),\n",
    "            nn.ConvTranspose2d(64, out_channels, kernel_size=3, padding=1),\n",
    "            nn.Softmax(dim=1)\n",
    "        )\n",
    "\n",
    "    def forward(self, x):\n",
    "        x = self.encoder(x)\n",
    "        x = self.decoder(x)\n",
    "        return x\n",
    "\n",
    "# Initialize model\n",
    "model = UNet(in_channels=1, out_channels=2).to(device)\n",
    "print(model)"
   ]
  },
  {
   "cell_type": "markdown",
   "id": "9976cce6",
   "metadata": {},
   "source": [
    "## <span style=\"color:brown\"> 4. Train the Model\n",
    "\n",
    "We will now train the U-Net model using the training dataset. The training loop will include:\n",
    "- Forward pass\n",
    "- Loss computation\n",
    "- Backward pass\n",
    "- Optimizer step"
   ]
  },
  {
   "cell_type": "code",
   "execution_count": null,
   "id": "c35ab2aa",
   "metadata": {},
   "outputs": [],
   "source": [
    "# Define loss function and optimizer\n",
    "criterion = nn.CrossEntropyLoss()\n",
    "optimizer = torch.optim.Adam(model.parameters(), lr=0.001)\n",
    "\n",
    "# Training loop\n",
    "num_epochs = 10\n",
    "for epoch in range(num_epochs):\n",
    "    model.train()\n",
    "    train_loss = 0\n",
    "    for images, masks in train_loader:\n",
    "        images, masks = images.to(device), masks.to(device)\n",
    "        optimizer.zero_grad()\n",
    "        outputs = model(images)\n",
    "        loss = criterion(outputs, masks)\n",
    "        loss.backward()\n",
    "        optimizer.step()\n",
    "        train_loss += loss.item()\n",
    "    print(f\"Epoch {epoch+1}/{num_epochs}, Loss: {train_loss/len(train_loader):.4f}\")"
   ]
  },
  {
   "cell_type": "markdown",
   "id": "1dd7591b",
   "metadata": {},
   "source": [
    "## <span style=\"color:brown\"> 5. Inference and Evaluation\n",
    "\n",
    "Finally, we will test the model on the test dataset and evaluate its performance using metrics like Dice coefficient and IoU."
   ]
  },
  {
   "cell_type": "code",
   "execution_count": null,
   "id": "428db3a0",
   "metadata": {},
   "outputs": [],
   "source": [
    "# Define evaluation metrics\n",
    "def dice_coefficient(pred, target):\n",
    "    smooth = 1e-6\n",
    "    intersection = (pred * target).sum()\n",
    "    return (2. * intersection + smooth) / (pred.sum() + target.sum() + smooth)\n",
    "\n",
    "# Evaluate on test dataset\n",
    "model.eval()\n",
    "dice_scores = []\n",
    "with torch.no_grad():\n",
    "    for images, masks in test_loader:\n",
    "        images, masks = images.to(device), masks.to(device)\n",
    "        outputs = model(images)\n",
    "        preds = torch.argmax(outputs, dim=1)\n",
    "        dice = dice_coefficient(preds, masks)\n",
    "        dice_scores.append(dice.item())\n",
    "\n",
    "print(f\"Average Dice Coefficient: {np.mean(dice_scores):.4f}\")"
   ]
  }
 ],
 "metadata": {
  "kernelspec": {
   "display_name": "Python 3",
   "language": "python",
   "name": "python3"
  },
  "language_info": {
   "codemirror_mode": {
    "name": "ipython",
    "version": 3
   },
   "file_extension": ".py",
   "mimetype": "text/x-python",
   "name": "python",
   "nbconvert_exporter": "python",
   "pygments_lexer": "ipython3",
   "version": "3.10.11"
  }
 },
 "nbformat": 4,
 "nbformat_minor": 5
}
